{
 "cells": [
  {
   "cell_type": "code",
   "execution_count": 2,
   "id": "22d02fae-20bc-42e6-843e-f903793b995e",
   "metadata": {},
   "outputs": [
    {
     "name": "stdout",
     "output_type": "stream",
     "text": [
      "Welcome to Assignment-1\n"
     ]
    }
   ],
   "source": [
    "print(\"Welcome to Assignment-1\")"
   ]
  },
  {
   "cell_type": "code",
   "execution_count": 6,
   "id": "daab0234-dc92-4d8e-9b5c-4684bf421505",
   "metadata": {},
   "outputs": [
    {
     "name": "stdout",
     "output_type": "stream",
     "text": [
      "Num1= 10\n",
      "Num2= 30\n",
      "Add= 40\n"
     ]
    }
   ],
   "source": [
    "Num1= 10\n",
    "print(\"Num1=\",Num1)\n",
    "Num2= 30\n",
    "print(\"Num2=\",Num2)\n",
    "print(\"Add=\",Num1+Num2)"
   ]
  },
  {
   "cell_type": "code",
   "execution_count": 12,
   "id": "6f3eb28a-090b-42f9-a300-52d40e8de7af",
   "metadata": {},
   "outputs": [
    {
     "name": "stdin",
     "output_type": "stream",
     "text": [
      "Enter the BMI Index: 54\n"
     ]
    },
    {
     "name": "stdout",
     "output_type": "stream",
     "text": [
      "Very Over weight\n"
     ]
    }
   ],
   "source": [
    "BMI= int(input(\"Enter the BMI Index:\"))\n",
    "if(BMI<18.5):\n",
    "    print(\"Under Weight\")\n",
    "elif(BMI<=24.9):\n",
    "    print(\"Normal\")\n",
    "elif(BMI<=29.9):\n",
    "    print(\"Over weight\")\n",
    "else:\n",
    "    print(\"Very Over weight\")"
   ]
  },
  {
   "cell_type": "code",
   "execution_count": null,
   "id": "83c2d441-2eeb-4739-a8ac-725c68201d82",
   "metadata": {},
   "outputs": [],
   "source": []
  }
 ],
 "metadata": {
  "kernelspec": {
   "display_name": "Python 3 (ipykernel)",
   "language": "python",
   "name": "python3"
  },
  "language_info": {
   "codemirror_mode": {
    "name": "ipython",
    "version": 3
   },
   "file_extension": ".py",
   "mimetype": "text/x-python",
   "name": "python",
   "nbconvert_exporter": "python",
   "pygments_lexer": "ipython3",
   "version": "3.12.4"
  }
 },
 "nbformat": 4,
 "nbformat_minor": 5
}
