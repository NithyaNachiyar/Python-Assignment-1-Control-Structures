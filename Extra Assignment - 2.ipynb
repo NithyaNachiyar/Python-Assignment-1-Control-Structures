{
 "cells": [
  {
   "cell_type": "code",
   "execution_count": 20,
   "id": "b6e7ef0a-ab6b-4f81-a38a-a8fd579a1efd",
   "metadata": {},
   "outputs": [
    {
     "name": "stdout",
     "output_type": "stream",
     "text": [
      "0\n",
      "1\n",
      "2\n",
      "3\n",
      "4\n",
      "5\n",
      "6\n",
      "7\n",
      "8\n",
      "9\n",
      "10\n",
      "11\n",
      "12\n",
      "13\n",
      "14\n",
      "15\n",
      "16\n",
      "17\n",
      "18\n",
      "19\n"
     ]
    }
   ],
   "source": [
    "for temp in range(0,20):\n",
    "    print(temp)"
   ]
  },
  {
   "cell_type": "code",
   "execution_count": 31,
   "id": "c484b71c-65f6-4dbc-a3f4-0ab60029691f",
   "metadata": {},
   "outputs": [
    {
     "name": "stdout",
     "output_type": "stream",
     "text": [
      "10 11 12 13 14 15 16 17 18 19\n"
     ]
    }
   ],
   "source": [
    "print(*range(10,20))"
   ]
  },
  {
   "cell_type": "code",
   "execution_count": 34,
   "id": "e2726866-6d49-4a9a-af8e-a6cacf9666f5",
   "metadata": {},
   "outputs": [
    {
     "name": "stdout",
     "output_type": "stream",
     "text": [
      "[10, 20, 14, 55, 43, 87, 76]\n",
      "Number of item in the List2: 7\n"
     ]
    }
   ],
   "source": [
    "lists=[10, 20, 14, 55, 43, 87, 76]\n",
    "print(lists)\n",
    "print('Number of item in the List2:', len(lists))"
   ]
  },
  {
   "cell_type": "code",
   "execution_count": 53,
   "id": "f975a8cd-3ed0-445a-a34f-fc7924d8a38b",
   "metadata": {},
   "outputs": [
    {
     "name": "stdout",
     "output_type": "stream",
     "text": [
      "Artificial Intelligence\n",
      "A\n",
      "r\n",
      "t\n",
      "i\n",
      "f\n",
      "i\n",
      "c\n",
      "i\n",
      "a\n",
      "l\n",
      " \n",
      "I\n",
      "n\n",
      "t\n",
      "e\n",
      "l\n",
      "l\n",
      "i\n",
      "g\n",
      "e\n",
      "n\n",
      "c\n",
      "e\n"
     ]
    }
   ],
   "source": [
    "s= \"Artificial Intelligence\"\n",
    "print(s)\n",
    "for temp in s:\n",
    "    print(temp)"
   ]
  },
  {
   "cell_type": "code",
   "execution_count": 34,
   "id": "7e04fc93-177e-4b75-a681-d973f227ea68",
   "metadata": {},
   "outputs": [
    {
     "name": "stdout",
     "output_type": "stream",
     "text": [
      "-Your Name-, -Your Age-, -Your Profession- \n",
      "\n"
     ]
    }
   ],
   "source": [
    "Lists = ['-Your Name-, -Your Age-, -Your Profession-']\n",
    "for i in Lists:\n",
    "    print(i,\"\\n\")"
   ]
  },
  {
   "cell_type": "code",
   "execution_count": 58,
   "id": "a33916e5-4499-4084-915b-52986e98e341",
   "metadata": {},
   "outputs": [
    {
     "name": "stdout",
     "output_type": "stream",
     "text": [
      "(1, 'welcome', 2, 'Hope')\n"
     ]
    }
   ],
   "source": [
    "Tuple = (1, 'welcome', 2, 'Hope')\n",
    "print(Tuple)"
   ]
  },
  {
   "cell_type": "code",
   "execution_count": 59,
   "id": "11ef3e70-c934-4148-963c-c6b56b839540",
   "metadata": {},
   "outputs": [
    {
     "name": "stdout",
     "output_type": "stream",
     "text": [
      "((0, 1, 2, 3), ('python', 'HOPE'))\n"
     ]
    }
   ],
   "source": [
    "Tuple= ((0, 1, 2, 3), ('python', 'HOPE'))\n",
    "print(Tuple)"
   ]
  },
  {
   "cell_type": "code",
   "execution_count": 29,
   "id": "291aa1e2-8fe1-4f24-b905-dbabb4de08c7",
   "metadata": {},
   "outputs": [
    {
     "name": "stdout",
     "output_type": "stream",
     "text": [
      "('A', 'r', 't', 'i', 'f', 'i', 'c', 'i', 'a', 'l', ' ', 'I', 'n', 't', 'e', 'l', 'l', 'i', 'g', 'e', 'n', 'c', 'e')\n"
     ]
    }
   ],
   "source": [
    "Tuple= tuple ('Artificial Intelligence')\n",
    "print(Tuple)"
   ]
  },
  {
   "cell_type": "code",
   "execution_count": null,
   "id": "97c6b4ac-43f0-4068-8fc7-0526b4737b4e",
   "metadata": {},
   "outputs": [],
   "source": [
    "#(20,10,16,19,25,1,276,188)\n",
    "#19 is odd\n",
    "#25 is odd\n",
    "#1 is odd"
   ]
  },
  {
   "cell_type": "code",
   "execution_count": 77,
   "id": "ba972b18-d89a-41a2-a61a-b77f3dd04cf5",
   "metadata": {},
   "outputs": [
    {
     "name": "stdout",
     "output_type": "stream",
     "text": [
      "19 is odd number\n",
      "25 is odd number\n",
      "1 is odd number\n"
     ]
    }
   ],
   "source": [
    "list = [20,10,16,19,25,1,276,188]\n",
    "for temp in list:\n",
    "    if ((temp%2)==1):\n",
    "        print(temp,'is odd number')"
   ]
  },
  {
   "cell_type": "code",
   "execution_count": 78,
   "id": "a858feeb-8efb-4551-bcd2-64626ba93d92",
   "metadata": {},
   "outputs": [
    {
     "name": "stdout",
     "output_type": "stream",
     "text": [
      "20 even number\n",
      "10 even number\n",
      "16 even number\n",
      "276 even number\n",
      "188 even number\n"
     ]
    }
   ],
   "source": [
    "list = [20,10,16,19,25,1,276,188]\n",
    "for i in list:\n",
    "    if (i%2)==0:\n",
    "        print(i,'even number')"
   ]
  },
  {
   "cell_type": "code",
   "execution_count": null,
   "id": "159046c2-a707-41bc-bdd2-4fd94e4ac355",
   "metadata": {},
   "outputs": [],
   "source": []
  }
 ],
 "metadata": {
  "kernelspec": {
   "display_name": "Python 3 (ipykernel)",
   "language": "python",
   "name": "python3"
  },
  "language_info": {
   "codemirror_mode": {
    "name": "ipython",
    "version": 3
   },
   "file_extension": ".py",
   "mimetype": "text/x-python",
   "name": "python",
   "nbconvert_exporter": "python",
   "pygments_lexer": "ipython3",
   "version": "3.12.4"
  }
 },
 "nbformat": 4,
 "nbformat_minor": 5
}
