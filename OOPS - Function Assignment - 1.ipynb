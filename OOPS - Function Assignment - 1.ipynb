{
 "cells": [
  {
   "cell_type": "code",
   "execution_count": 6,
   "id": "b9e2b1ef-5af5-4c51-bfd1-b839dacde4e9",
   "metadata": {},
   "outputs": [],
   "source": [
    "def SubfieldsInAI():\n",
    "    lists = [\"Machine Learning\", \"Neural Networks\", \"Vision\", \"Robotics\", \"Speech Processing\", \"Natural Language Processing\"]\n",
    "    print('Sub-fields in AI are:')\n",
    "    for i in lists:    \n",
    "        print(i)\n",
    "        subfield = i\n",
    "    return subfield"
   ]
  },
  {
   "cell_type": "code",
   "execution_count": 8,
   "id": "c0e79bc2-95a9-4b92-9b08-7ed80d2953c8",
   "metadata": {},
   "outputs": [
    {
     "name": "stdout",
     "output_type": "stream",
     "text": [
      "Sub-fields in AI are:\n",
      "Machine Learning\n",
      "Neural Networks\n",
      "Vision\n",
      "Robotics\n",
      "Speech Processing\n",
      "Natural Language Processing\n"
     ]
    }
   ],
   "source": [
    "subfield= SubfieldsInAI()"
   ]
  },
  {
   "cell_type": "code",
   "execution_count": 9,
   "id": "678b3184-0f30-4851-b760-5618db952c74",
   "metadata": {},
   "outputs": [
    {
     "name": "stdin",
     "output_type": "stream",
     "text": [
      "Enter your number: 52452\n"
     ]
    },
    {
     "name": "stdout",
     "output_type": "stream",
     "text": [
      "52452 is Even number\n"
     ]
    }
   ],
   "source": [
    "num= int(input(\"Enter your number:\"))\n",
    "if (num%2)==0:\n",
    "    print(num, 'is Even number')\n",
    "else:\n",
    "    print(num, 'is Odd number')   \n"
   ]
  },
  {
   "cell_type": "code",
   "execution_count": 11,
   "id": "567dd909-264c-43eb-882b-13dab03aaaaf",
   "metadata": {},
   "outputs": [],
   "source": [
    "def OddEven():\n",
    "    num= int(input(\"Enter your number:\"))\n",
    "    if (num%2)==0:\n",
    "        print(num, 'is Even number')\n",
    "        Message = num, 'is Even number'\n",
    "    else:\n",
    "        print(num, 'is Odd number')\n",
    "        Message = num, 'is Odd number'\n",
    "    return Message\n",
    "    "
   ]
  },
  {
   "cell_type": "code",
   "execution_count": 14,
   "id": "40302192-39d4-4746-8066-1aa56a85dfc9",
   "metadata": {},
   "outputs": [
    {
     "name": "stdin",
     "output_type": "stream",
     "text": [
      "Enter your number: 52452\n"
     ]
    },
    {
     "name": "stdout",
     "output_type": "stream",
     "text": [
      "52452 is Even number\n"
     ]
    }
   ],
   "source": [
    "Message = OddEven()"
   ]
  },
  {
   "cell_type": "code",
   "execution_count": 29,
   "id": "14770ff0-d79e-424f-ba49-d7fe49f18101",
   "metadata": {},
   "outputs": [
    {
     "name": "stdin",
     "output_type": "stream",
     "text": [
      "Enter your gender: male\n",
      "Enter your age: 22\n"
     ]
    },
    {
     "name": "stdout",
     "output_type": "stream",
     "text": [
      "Eligible\n"
     ]
    }
   ],
   "source": [
    "gender = input('Enter your gender:').lower()\n",
    "age = int(input('Enter your age:'))\n",
    "if gender=='male' and age>=21:\n",
    "    print('Eligible')\n",
    "else:\n",
    "    print('Not Eligible')"
   ]
  },
  {
   "cell_type": "code",
   "execution_count": 32,
   "id": "ef1aa706-3c47-4c38-beda-ec40a1f5a721",
   "metadata": {},
   "outputs": [],
   "source": [
    "def ElegiblityForMarriage():\n",
    "    gender = input('Enter your gender:').lower()\n",
    "    age = int(input('Enter your age:'))\n",
    "    if gender=='male' and age>=21:\n",
    "        print('Eligible')\n",
    "        Elegiblity = 'Eligible'\n",
    "    elif gender =='female' and age>=18:\n",
    "        print('Eligible')\n",
    "        Elegiblity = 'Eligible'\n",
    "    else:\n",
    "        print('Not Eligible')\n",
    "        Elegiblity = 'Not Eligible'\n",
    "    return Elegiblity"
   ]
  },
  {
   "cell_type": "code",
   "execution_count": 34,
   "id": "ff301ddb-182b-442d-a572-97054aa294bb",
   "metadata": {},
   "outputs": [
    {
     "name": "stdin",
     "output_type": "stream",
     "text": [
      "Enter your gender: Female\n",
      "Enter your age: 19\n"
     ]
    },
    {
     "name": "stdout",
     "output_type": "stream",
     "text": [
      "Eligible\n"
     ]
    }
   ],
   "source": [
    "Elegiblity= ElegiblityForMarriage()"
   ]
  },
  {
   "cell_type": "code",
   "execution_count": 44,
   "id": "f188d18e-d684-4e28-9a1b-c36899004906",
   "metadata": {},
   "outputs": [],
   "source": [
    "def FindPercent():\n",
    "    Lists = [\"Subject1= 98\", \"Subject2= 87\", \"Subject3= 95\", \"Subject4= 95\", \"Subject5= 93\"]\n",
    "    for i in Lists:\n",
    "        print (i)\n",
    "    Total = Subject1+Subject2+Subject3+Subject4+Subject5\n",
    "    print( 'Total:', Total)\n",
    "    message = 'Total:'\n",
    "    print('Percentage:', Total/5)\n",
    "    message = 'Percentage:'\n",
    "    return message"
   ]
  },
  {
   "cell_type": "code",
   "execution_count": 46,
   "id": "4521f49b-feed-4635-92fd-89e074481003",
   "metadata": {},
   "outputs": [
    {
     "name": "stdout",
     "output_type": "stream",
     "text": [
      "Subject1= 98\n",
      "Subject2= 87\n",
      "Subject3= 95\n",
      "Subject4= 95\n",
      "Subject5= 93\n",
      "Total: 468\n",
      "Percentage: 93.6\n"
     ]
    }
   ],
   "source": [
    "message = FindPercent()"
   ]
  },
  {
   "cell_type": "code",
   "execution_count": 53,
   "id": "3d4d971e-b497-42b4-ba3f-37d23b061038",
   "metadata": {},
   "outputs": [],
   "source": [
    "def triangle():\n",
    "    Height= int(input('Enter height:'))\n",
    "    Breadth= int(input('Enter breaadth:'))\n",
    "    print(\"Area of Triangle:\", (Height*Breadth)/2)\n",
    "    message = \"Area of Triangle:\"\n",
    "    Height1=int(input('Enter height1:'))\n",
    "    Height2=int(input('Enter height2:'))\n",
    "    Breadth2=int(input('Enter breadth1:'))\n",
    "    print('Perimeter of Triangle:',  Height1+Height2+Breadth2)\n",
    "    message = 'Perimeter of Triangle:'\n",
    "    return message"
   ]
  },
  {
   "cell_type": "code",
   "execution_count": 55,
   "id": "d99aef4c-cfcf-47a4-85d9-8f82606c3caa",
   "metadata": {},
   "outputs": [
    {
     "name": "stdin",
     "output_type": "stream",
     "text": [
      "Enter height: 32\n",
      "Enter breaadth: 34\n"
     ]
    },
    {
     "name": "stdout",
     "output_type": "stream",
     "text": [
      "Area of Triangle: 544.0\n"
     ]
    },
    {
     "name": "stdin",
     "output_type": "stream",
     "text": [
      "Enter height1: 2\n",
      "Enter height2: 4\n",
      "Enter breadth1: 4\n"
     ]
    },
    {
     "name": "stdout",
     "output_type": "stream",
     "text": [
      "Perimeter of Triangle: 10\n"
     ]
    }
   ],
   "source": [
    "message = triangle()"
   ]
  },
  {
   "cell_type": "code",
   "execution_count": null,
   "id": "650c66a3-fecb-475c-9182-baca9ca3e5c2",
   "metadata": {},
   "outputs": [],
   "source": []
  }
 ],
 "metadata": {
  "kernelspec": {
   "display_name": "Python 3 (ipykernel)",
   "language": "python",
   "name": "python3"
  },
  "language_info": {
   "codemirror_mode": {
    "name": "ipython",
    "version": 3
   },
   "file_extension": ".py",
   "mimetype": "text/x-python",
   "name": "python",
   "nbconvert_exporter": "python",
   "pygments_lexer": "ipython3",
   "version": "3.12.4"
  }
 },
 "nbformat": 4,
 "nbformat_minor": 5
}
