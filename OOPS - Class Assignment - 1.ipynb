{
 "cells": [
  {
   "cell_type": "code",
   "execution_count": 3,
   "id": "b9782ac6-9274-4903-8a0e-c6e589c76dfd",
   "metadata": {},
   "outputs": [],
   "source": [
    "class SubfieldsInAI():\n",
    "    def Subfields():\n",
    "        lists = [\"Machine Learning\", \"Neural Networks\", \"Vision\", \"Robotics\", \"Speech Processing\", \"Natural Language Processing\"]\n",
    "        print('Sub-fields in AI are:')\n",
    "        for i in lists:    \n",
    "            print(i)\n",
    "            subfield = i\n",
    "        return subfield"
   ]
  },
  {
   "cell_type": "code",
   "execution_count": 4,
   "id": "c0e79bc2-95a9-4b92-9b08-7ed80d2953c8",
   "metadata": {},
   "outputs": [
    {
     "name": "stdout",
     "output_type": "stream",
     "text": [
      "Sub-fields in AI are:\n",
      "Machine Learning\n",
      "Neural Networks\n",
      "Vision\n",
      "Robotics\n",
      "Speech Processing\n",
      "Natural Language Processing\n"
     ]
    }
   ],
   "source": [
    "subfield= SubfieldsInAI.Subfields()"
   ]
  },
  {
   "cell_type": "code",
   "execution_count": 7,
   "id": "567dd909-264c-43eb-882b-13dab03aaaaf",
   "metadata": {},
   "outputs": [],
   "source": [
    "class OddEven():\n",
    "    def oddEven():\n",
    "        num= int(input(\"Enter your number:\"))\n",
    "        if (num%2)==0:\n",
    "            print(num, 'is Even number')\n",
    "            Message = num, 'is Even number'\n",
    "        else:\n",
    "            print(num, 'is Odd number')\n",
    "            Message = num, 'is Odd number'\n",
    "        return Message\n",
    "    "
   ]
  },
  {
   "cell_type": "code",
   "execution_count": 8,
   "id": "40302192-39d4-4746-8066-1aa56a85dfc9",
   "metadata": {},
   "outputs": [
    {
     "name": "stdin",
     "output_type": "stream",
     "text": [
      "Enter your number: 52452\n"
     ]
    },
    {
     "name": "stdout",
     "output_type": "stream",
     "text": [
      "52452 is Even number\n"
     ]
    }
   ],
   "source": [
    "Message = OddEven.oddEven()"
   ]
  },
  {
   "cell_type": "code",
   "execution_count": 42,
   "id": "ef1aa706-3c47-4c38-beda-ec40a1f5a721",
   "metadata": {},
   "outputs": [],
   "source": [
    "class ElegiblityForMarriage():\n",
    "    def Elegible():\n",
    "        gender = input('Enter your gender:').lower()\n",
    "        age = int(input('Enter your age:'))\n",
    "        if gender=='male' and age>=21:\n",
    "            print('Eligible')\n",
    "            Elegiblity = 'Eligible'\n",
    "        elif gender =='female' and age>=18:\n",
    "            print('Eligible')\n",
    "            Elegiblity = 'Eligible'\n",
    "        else:\n",
    "            print('Not Eligible')\n",
    "            Elegiblity = 'Not Eligible'\n",
    "        return Elegiblity"
   ]
  },
  {
   "cell_type": "code",
   "execution_count": 44,
   "id": "ff301ddb-182b-442d-a572-97054aa294bb",
   "metadata": {},
   "outputs": [
    {
     "name": "stdin",
     "output_type": "stream",
     "text": [
      "Enter your gender: female\n",
      "Enter your age: 14\n"
     ]
    },
    {
     "name": "stdout",
     "output_type": "stream",
     "text": [
      "Not Eligible\n"
     ]
    }
   ],
   "source": [
    "msg = ElegiblityForMarriage.Elegible()"
   ]
  },
  {
   "cell_type": "code",
   "execution_count": 56,
   "id": "f188d18e-d684-4e28-9a1b-c36899004906",
   "metadata": {},
   "outputs": [],
   "source": [
    "class FindPercent():\n",
    "    def percentage():\n",
    "        Subject1 = int(input('Subject1'))\n",
    "        Subject2 = int(input('Subject2'))\n",
    "        Subject3 = int(input('Subject3'))\n",
    "        Subject4 = int(input('Subject4'))\n",
    "        Subject5 = int(input('Subject5'))                      \n",
    "        Total = Subject1+Subject2+Subject3+Subject4+Subject5\n",
    "        print('Subject1 =', Subject1)\n",
    "        print('Subject1 =', Subject2)\n",
    "        print('Subject1 =', Subject3)\n",
    "        print('Subject1 =', Subject4)\n",
    "        print('Subject1 =', Subject5)\n",
    "        print( 'Total:', Total)\n",
    "        print('Percentage:', Total/5)"
   ]
  },
  {
   "cell_type": "code",
   "execution_count": 57,
   "id": "4521f49b-feed-4635-92fd-89e074481003",
   "metadata": {},
   "outputs": [
    {
     "name": "stdin",
     "output_type": "stream",
     "text": [
      "Subject1 98\n",
      "Subject2 87\n",
      "Subject3 95\n",
      "Subject4 95\n",
      "Subject5 93\n"
     ]
    },
    {
     "name": "stdout",
     "output_type": "stream",
     "text": [
      "Subject1 = 98\n",
      "Subject1 = 87\n",
      "Subject1 = 95\n",
      "Subject1 = 95\n",
      "Subject1 = 93\n",
      "Total: 468\n",
      "Percentage: 93.6\n"
     ]
    }
   ],
   "source": [
    "FindPercent.percentage()"
   ]
  },
  {
   "cell_type": "code",
   "execution_count": 58,
   "id": "3d4d971e-b497-42b4-ba3f-37d23b061038",
   "metadata": {},
   "outputs": [],
   "source": [
    "class Triangle():\n",
    "    def triangle():\n",
    "        Height= int(input('Enter height:'))\n",
    "        Breadth= int(input('Enter breaadth:'))\n",
    "        print('Area formula: (Height*Breadth)/2')\n",
    "        print(\"Area of Triangle:\", (Height*Breadth)/2)\n",
    "        Height1=int(input('Enter height1:'))\n",
    "        Height2=int(input('Enter height2:'))\n",
    "        Breadth2=int(input('Enter breadth1:'))\n",
    "        print('Perimeter formula: Height1+Height2+Breadth2')\n",
    "        print('Perimeter of Triangle:',  Height1+Height2+Breadth2)\n",
    "        message = 'Perimeter of Triangle:'"
   ]
  },
  {
   "cell_type": "code",
   "execution_count": 59,
   "id": "d99aef4c-cfcf-47a4-85d9-8f82606c3caa",
   "metadata": {},
   "outputs": [
    {
     "name": "stdin",
     "output_type": "stream",
     "text": [
      "Enter height: 45\n",
      "Enter breaadth: 54\n"
     ]
    },
    {
     "name": "stdout",
     "output_type": "stream",
     "text": [
      "Area formula: (Height*Breadth)/2\n",
      "Area of Triangle: 1215.0\n"
     ]
    },
    {
     "name": "stdin",
     "output_type": "stream",
     "text": [
      "Enter height1: 2\n",
      "Enter height2: 4\n",
      "Enter breadth1: 4\n"
     ]
    },
    {
     "name": "stdout",
     "output_type": "stream",
     "text": [
      "Perimeter formula: Height1+Height2+Breadth2\n",
      "Perimeter of Triangle: 10\n"
     ]
    }
   ],
   "source": [
    "Triangle.triangle()"
   ]
  },
  {
   "cell_type": "code",
   "execution_count": null,
   "id": "057d1aa4-0fe6-4f45-b556-ddfe803b56d7",
   "metadata": {},
   "outputs": [],
   "source": []
  }
 ],
 "metadata": {
  "kernelspec": {
   "display_name": "Python 3 (ipykernel)",
   "language": "python",
   "name": "python3"
  },
  "language_info": {
   "codemirror_mode": {
    "name": "ipython",
    "version": 3
   },
   "file_extension": ".py",
   "mimetype": "text/x-python",
   "name": "python",
   "nbconvert_exporter": "python",
   "pygments_lexer": "ipython3",
   "version": "3.12.4"
  }
 },
 "nbformat": 4,
 "nbformat_minor": 5
}
