{
 "cells": [
  {
   "cell_type": "code",
   "execution_count": 2,
   "id": "cf9cb915-038b-468a-ab24-82d489098fbe",
   "metadata": {},
   "outputs": [
    {
     "name": "stdout",
     "output_type": "stream",
     "text": [
      "HOPE AI\n"
     ]
    }
   ],
   "source": [
    "print('HOPE AI')"
   ]
  },
  {
   "cell_type": "code",
   "execution_count": 3,
   "id": "37d6730f-4c0b-472a-8526-f57885a6a524",
   "metadata": {},
   "outputs": [
    {
     "name": "stdin",
     "output_type": "stream",
     "text": [
      "Enter your institute name? : HOPE AI\n"
     ]
    }
   ],
   "source": [
    "InstituteName = input('Enter your institute name? :')"
   ]
  },
  {
   "cell_type": "code",
   "execution_count": 4,
   "id": "4b758a6e-92fb-4824-9126-79458ab6e9aa",
   "metadata": {},
   "outputs": [
    {
     "name": "stdin",
     "output_type": "stream",
     "text": [
      "Enter your name: Raj\n",
      "Enter your age: 15\n",
      "Enter your school name: Guru school\n",
      "Enter your drgree: B.E CSE\n"
     ]
    }
   ],
   "source": [
    "Name = input('Enter your name:')\n",
    "Age= int(input('Enter your age:'))\n",
    "School= input('Enter your school name:')\n",
    "drgree = input('Enter your drgree:')"
   ]
  },
  {
   "cell_type": "code",
   "execution_count": 5,
   "id": "3e59000b-442d-471f-8b4c-2773cc7b0aa4",
   "metadata": {},
   "outputs": [
    {
     "name": "stdout",
     "output_type": "stream",
     "text": [
      "a= 43\n",
      "b= 34\n",
      "add= 77\n"
     ]
    }
   ],
   "source": [
    "a= 43\n",
    "b= 34\n",
    "print('a=',a)\n",
    "print('b=',b)\n",
    "print('add=',a+b)"
   ]
  },
  {
   "cell_type": "code",
   "execution_count": 6,
   "id": "59070c55-022f-4697-9c73-56044bfd0035",
   "metadata": {},
   "outputs": [
    {
     "name": "stdout",
     "output_type": "stream",
     "text": [
      "a= 43\n",
      "b= 34\n",
      "Sub = 9\n"
     ]
    }
   ],
   "source": [
    "a= 43\n",
    "b= 34\n",
    "print('a=',a)\n",
    "print('b=',b)\n",
    "print('Sub =',a-b)"
   ]
  },
  {
   "cell_type": "code",
   "execution_count": 8,
   "id": "5f8950cf-b211-431b-ac95-9e9992eb2f64",
   "metadata": {},
   "outputs": [
    {
     "name": "stdout",
     "output_type": "stream",
     "text": [
      "a= 63\n",
      "b= 97\n",
      "Mul = 6111\n"
     ]
    }
   ],
   "source": [
    "a= 63\n",
    "b= 97\n",
    "print('a=',a)\n",
    "print('b=',b)\n",
    "print('Mul =', a*b)"
   ]
  },
  {
   "cell_type": "code",
   "execution_count": 9,
   "id": "d3d81d98-2236-4493-b353-a0ce5c005945",
   "metadata": {},
   "outputs": [
    {
     "name": "stdout",
     "output_type": "stream",
     "text": [
      "a= 76\n",
      "b= 31\n",
      "Float Div = 2.4516129032258065\n"
     ]
    }
   ],
   "source": [
    "a= 76\n",
    "b= 31\n",
    "print('a=',a)\n",
    "print('b=',b)\n",
    "print('Float Div =', a/b)"
   ]
  },
  {
   "cell_type": "code",
   "execution_count": 11,
   "id": "b6c17e6e-3d5b-4e4f-b8e6-16899c960ba9",
   "metadata": {},
   "outputs": [
    {
     "name": "stdout",
     "output_type": "stream",
     "text": [
      "a= 76\n",
      "b= 31\n",
      "Floor Div = 2\n"
     ]
    }
   ],
   "source": [
    "a= 76\n",
    "b= 31\n",
    "print('a=',a)\n",
    "print('b=',b)\n",
    "print('Floor Div =',a//b)"
   ]
  },
  {
   "cell_type": "code",
   "execution_count": 12,
   "id": "018dd43c-95ba-4354-bbd4-58bc189c3ff8",
   "metadata": {},
   "outputs": [
    {
     "name": "stdout",
     "output_type": "stream",
     "text": [
      "a= 76\n",
      "b= 31\n",
      "Modulo = 14\n"
     ]
    }
   ],
   "source": [
    "a= 76\n",
    "b= 31\n",
    "print('a=',a)\n",
    "print('b=',b)\n",
    "print('Modulo =',a%b)"
   ]
  },
  {
   "cell_type": "code",
   "execution_count": 14,
   "id": "fcac14f5-5ad2-4959-9c80-f5b2e7642b71",
   "metadata": {},
   "outputs": [
    {
     "name": "stdout",
     "output_type": "stream",
     "text": [
      "a= 4\n",
      "b= 4\n",
      "Modulo = 256\n"
     ]
    }
   ],
   "source": [
    "a= 4\n",
    "b= 4\n",
    "print('a=',a)\n",
    "print('b=',b)\n",
    "print('Modulo =',a**b)"
   ]
  }
 ],
 "metadata": {
  "kernelspec": {
   "display_name": "Python 3 (ipykernel)",
   "language": "python",
   "name": "python3"
  },
  "language_info": {
   "codemirror_mode": {
    "name": "ipython",
    "version": 3
   },
   "file_extension": ".py",
   "mimetype": "text/x-python",
   "name": "python",
   "nbconvert_exporter": "python",
   "pygments_lexer": "ipython3",
   "version": "3.12.4"
  }
 },
 "nbformat": 4,
 "nbformat_minor": 5
}
