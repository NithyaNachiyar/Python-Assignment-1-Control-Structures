{
 "cells": [
  {
   "cell_type": "code",
   "execution_count": 5,
   "id": "7d62d5f2-6da3-44db-a82b-9936077adb04",
   "metadata": {},
   "outputs": [
    {
     "name": "stdin",
     "output_type": "stream",
     "text": [
      "value: 10\n"
     ]
    },
    {
     "name": "stdout",
     "output_type": "stream",
     "text": [
      "correct\n"
     ]
    }
   ],
   "source": [
    "Num= int(input('value:'))\n",
    "if Num==10:\n",
    "    print('correct')"
   ]
  },
  {
   "cell_type": "code",
   "execution_count": 14,
   "id": "aa3d3a80-c42f-428f-9e97-efc2f96582d4",
   "metadata": {},
   "outputs": [
    {
     "name": "stdin",
     "output_type": "stream",
     "text": [
      "Enter the password: HOPE@123\n"
     ]
    },
    {
     "name": "stdout",
     "output_type": "stream",
     "text": [
      "Your password is correct\n"
     ]
    }
   ],
   "source": [
    "Password = input('Enter the password:')\n",
    "if (Password=='HOPE@123'):\n",
    "    print('Your password is correct')\n",
    "else:\n",
    "    print('Your password is wrong')"
   ]
  },
  {
   "cell_type": "code",
   "execution_count": 19,
   "id": "988c6224-4722-4bcd-8411-e7630f57f520",
   "metadata": {},
   "outputs": [
    {
     "name": "stdin",
     "output_type": "stream",
     "text": [
      "age 20\n"
     ]
    },
    {
     "name": "stdout",
     "output_type": "stream",
     "text": [
      "Adult\n"
     ]
    }
   ],
   "source": [
    "age = int(input('age'))\n",
    "if (age<20):\n",
    "    print('Child')\n",
    "elif (age<35):\n",
    "    print('Adult')\n",
    "elif (age<50):\n",
    "    print('Citizens')\n",
    "else:\n",
    "    print('Senior Citizens')"
   ]
  },
  {
   "cell_type": "code",
   "execution_count": 24,
   "id": "6ecde144-d15d-4992-bdfc-61be3f824c1f",
   "metadata": {},
   "outputs": [
    {
     "name": "stdin",
     "output_type": "stream",
     "text": [
      "Enter any number: -90\n"
     ]
    },
    {
     "name": "stdout",
     "output_type": "stream",
     "text": [
      "No is negative\n"
     ]
    }
   ],
   "source": [
    "num=int(input('Enter any number:'))\n",
    "if num>=0:\n",
    "    print('No is positive')\n",
    "else:\n",
    "    print('No is negative')"
   ]
  },
  {
   "cell_type": "code",
   "execution_count": 28,
   "id": "0e0441eb-ccd8-45ff-a0fa-2f5b57d2c704",
   "metadata": {},
   "outputs": [
    {
     "name": "stdin",
     "output_type": "stream",
     "text": [
      "Enter any number: 22\n"
     ]
    },
    {
     "name": "stdout",
     "output_type": "stream",
     "text": [
      "No is not divisible by 5\n"
     ]
    }
   ],
   "source": [
    "num=int(input('Enter any number:'))\n",
    "if (num%5)==0:\n",
    "    print('No is divisible by 5')\n",
    "else:\n",
    "    print('No is not divisible by 5') "
   ]
  }
 ],
 "metadata": {
  "kernelspec": {
   "display_name": "Python 3 (ipykernel)",
   "language": "python",
   "name": "python3"
  },
  "language_info": {
   "codemirror_mode": {
    "name": "ipython",
    "version": 3
   },
   "file_extension": ".py",
   "mimetype": "text/x-python",
   "name": "python",
   "nbconvert_exporter": "python",
   "pygments_lexer": "ipython3",
   "version": "3.12.4"
  }
 },
 "nbformat": 4,
 "nbformat_minor": 5
}
